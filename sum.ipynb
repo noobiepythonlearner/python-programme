{
 "cells": [
  {
   "cell_type": "code",
   "execution_count": 1,
   "id": "ee4c3310",
   "metadata": {},
   "outputs": [
    {
     "name": "stdout",
     "output_type": "stream",
     "text": [
      "hello world\n"
     ]
    }
   ],
   "source": [
    "print('hello world')"
   ]
  },
  {
   "cell_type": "code",
   "execution_count": 3,
   "id": "d5ca4b71",
   "metadata": {},
   "outputs": [
    {
     "name": "stdout",
     "output_type": "stream",
     "text": [
      "sum= 75\n"
     ]
    }
   ],
   "source": [
    "a=25\n",
    "b=50\n",
    "sum=a+b\n",
    "print('sum=',sum)\n"
   ]
  },
  {
   "cell_type": "code",
   "execution_count": 5,
   "id": "1e82569a",
   "metadata": {},
   "outputs": [
    {
     "name": "stdout",
     "output_type": "stream",
     "text": [
      "enter the first number :12\n",
      "enter the second number:48\n",
      "sum = 60\n"
     ]
    }
   ],
   "source": [
    "number1=int(input(\"enter the first number :\"))\n",
    "number2=int(input(\"enter the second number:\"))\n",
    "sum=number1+number2\n",
    "print('sum =',sum)"
   ]
  },
  {
   "cell_type": "code",
   "execution_count": 9,
   "id": "9b9ef20b",
   "metadata": {
    "scrolled": false
   },
   "outputs": [
    {
     "name": "stdout",
     "output_type": "stream",
     "text": [
      "enter the number :56\n",
      "the number is positive\n"
     ]
    }
   ],
   "source": [
    "num1=int(input(\"enter the number :\"))\n",
    "if(num1>0):\n",
    "    print('the number is positive' )\n",
    "elif(num1==0):\n",
    "    print('the number is zero')\n",
    "else:\n",
    "    print('the number is negative')"
   ]
  },
  {
   "cell_type": "code",
   "execution_count": 13,
   "id": "0eba496c",
   "metadata": {},
   "outputs": [
    {
     "name": "stdout",
     "output_type": "stream",
     "text": [
      "enter the number :96\n",
      "the number is even\n"
     ]
    }
   ],
   "source": [
    "number=int(input(\"enter the number :\"))\n",
    "if(number%2==0):\n",
    "    print('the number is even')\n",
    "else:\n",
    "    print('the number is odd')"
   ]
  },
  {
   "cell_type": "code",
   "execution_count": 14,
   "id": "697d7aa6",
   "metadata": {},
   "outputs": [
    {
     "name": "stdout",
     "output_type": "stream",
     "text": [
      "the number is odd\n"
     ]
    }
   ],
   "source": [
    "a=67\n",
    "if(a%2==0):\n",
    "    print('a is even')\n",
    "else:\n",
    "    print('the number is odd')\n",
    "    "
   ]
  },
  {
   "cell_type": "code",
   "execution_count": 20,
   "id": "bddfddc1",
   "metadata": {},
   "outputs": [
    {
     "name": "stdout",
     "output_type": "stream",
     "text": [
      "enter first number :30\n",
      "enter second number :30\n",
      "enter third number :20\n",
      "first number is largest\n"
     ]
    }
   ],
   "source": [
    "number_=int(input(\"enter first number :\"))\n",
    "number2=int(input(\"enter second number :\"))\n",
    "number3=int(input(\"enter third number :\"))\n",
    "if(number_>=number2 and number_>=number3):\n",
    "    print('first number is largest')\n",
    "elif(number2>=number_ and number2>=number3):\n",
    "    print('second number is largest ')\n",
    "else:\n",
    "    print('third number is largest')\n",
    "    \n",
    "    "
   ]
  },
  {
   "cell_type": "code",
   "execution_count": 18,
   "id": "d46c6903",
   "metadata": {},
   "outputs": [
    {
     "name": "stdout",
     "output_type": "stream",
     "text": [
      "z is the largest \n"
     ]
    }
   ],
   "source": [
    "x=25\n",
    "y=30\n",
    "z=70\n",
    "if(x>=y and x>=z):\n",
    "    print('x is the largest ')\n",
    "elif(y>=x and y>=z):\n",
    "    print('y is the largest')\n",
    "else:\n",
    "    print('z is the largest ')"
   ]
  },
  {
   "cell_type": "code",
   "execution_count": null,
   "id": "eab3e762",
   "metadata": {},
   "outputs": [],
   "source": [
    "fact="
   ]
  }
 ],
 "metadata": {
  "kernelspec": {
   "display_name": "Python 3",
   "language": "python",
   "name": "python3"
  },
  "language_info": {
   "codemirror_mode": {
    "name": "ipython",
    "version": 3
   },
   "file_extension": ".py",
   "mimetype": "text/x-python",
   "name": "python",
   "nbconvert_exporter": "python",
   "pygments_lexer": "ipython3",
   "version": "3.8.8"
  }
 },
 "nbformat": 4,
 "nbformat_minor": 5
}
