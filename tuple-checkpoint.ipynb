{
 "cells": [
  {
   "cell_type": "code",
   "execution_count": 1,
   "id": "636d2bcd",
   "metadata": {},
   "outputs": [
    {
     "data": {
      "text/plain": [
       "(1, 2, 3, 4, 5, 6, 7, 8, 7, 6, 5, 90)"
      ]
     },
     "execution_count": 1,
     "metadata": {},
     "output_type": "execute_result"
    }
   ],
   "source": [
    "A=(1,2,3,4,5,6,7,8,7,6,5,90)\n",
    "A"
   ]
  },
  {
   "cell_type": "code",
   "execution_count": 2,
   "id": "81ffc763",
   "metadata": {},
   "outputs": [],
   "source": [
    "A=5,6,7,8,9,10,2,3,4,5,6,\n"
   ]
  },
  {
   "cell_type": "code",
   "execution_count": 3,
   "id": "8d3c4623",
   "metadata": {},
   "outputs": [
    {
     "data": {
      "text/plain": [
       "(5, 6, 7, 8, 9, 10, 2, 3, 4, 5, 6)"
      ]
     },
     "execution_count": 3,
     "metadata": {},
     "output_type": "execute_result"
    }
   ],
   "source": [
    "A"
   ]
  },
  {
   "cell_type": "code",
   "execution_count": 4,
   "id": "8ef10457",
   "metadata": {},
   "outputs": [
    {
     "data": {
      "text/plain": [
       "(12, 23, 45, 56, 767, (12, 232, 343, 100))"
      ]
     },
     "execution_count": 4,
     "metadata": {},
     "output_type": "execute_result"
    }
   ],
   "source": [
    "C=(12,23,45,56,767,(12,232,343,100))\n",
    "C"
   ]
  },
  {
   "cell_type": "code",
   "execution_count": 5,
   "id": "c10906af",
   "metadata": {},
   "outputs": [
    {
     "data": {
      "text/plain": [
       "767"
      ]
     },
     "execution_count": 5,
     "metadata": {},
     "output_type": "execute_result"
    }
   ],
   "source": [
    "C[4]"
   ]
  },
  {
   "cell_type": "code",
   "execution_count": 6,
   "id": "be16626d",
   "metadata": {},
   "outputs": [
    {
     "data": {
      "text/plain": [
       "343"
      ]
     },
     "execution_count": 6,
     "metadata": {},
     "output_type": "execute_result"
    }
   ],
   "source": [
    "C[5][2]"
   ]
  },
  {
   "cell_type": "code",
   "execution_count": null,
   "id": "6088f607",
   "metadata": {},
   "outputs": [],
   "source": []
  },
  {
   "cell_type": "code",
   "execution_count": 7,
   "id": "eaee3cfc",
   "metadata": {},
   "outputs": [
    {
     "data": {
      "text/plain": [
       "(87, 78, 98, 24, 36, 26, (56, 87, 99), 101)"
      ]
     },
     "execution_count": 7,
     "metadata": {},
     "output_type": "execute_result"
    }
   ],
   "source": [
    "D=(87,78,98,24,36,26,(56,87,99),101)\n",
    "D"
   ]
  },
  {
   "cell_type": "code",
   "execution_count": 8,
   "id": "827aa7a0",
   "metadata": {},
   "outputs": [
    {
     "data": {
      "text/plain": [
       "99"
      ]
     },
     "execution_count": 8,
     "metadata": {},
     "output_type": "execute_result"
    }
   ],
   "source": [
    "D[6][2]"
   ]
  },
  {
   "cell_type": "code",
   "execution_count": 9,
   "id": "4cefee03",
   "metadata": {},
   "outputs": [
    {
     "ename": "IndentationError",
     "evalue": "unexpected indent (<ipython-input-9-8f492d870b27>, line 2)",
     "output_type": "error",
     "traceback": [
      "\u001b[1;36m  File \u001b[1;32m\"<ipython-input-9-8f492d870b27>\"\u001b[1;36m, line \u001b[1;32m2\u001b[0m\n\u001b[1;33m    http://localhost:8888/notebooks/Untitled10.ipynb?kernel_name=python3#\u001b[0m\n\u001b[1;37m    ^\u001b[0m\n\u001b[1;31mIndentationError\u001b[0m\u001b[1;31m:\u001b[0m unexpected indent\n"
     ]
    }
   ],
   "source": [
    "U=tuple(input('enter elements :'))\n",
    "        http://localhost:8888/notebooks/Untitled10.ipynb?kernel_name=python3#"
   ]
  },
  {
   "cell_type": "code",
   "execution_count": null,
   "id": "e662f985",
   "metadata": {},
   "outputs": [],
   "source": [
    "U"
   ]
  },
  {
   "cell_type": "code",
   "execution_count": null,
   "id": "7aef9ce4",
   "metadata": {},
   "outputs": [],
   "source": [
    "t=tuple(input('enter elements :'))\n"
   ]
  },
  {
   "cell_type": "code",
   "execution_count": null,
   "id": "b5ad11ff",
   "metadata": {},
   "outputs": [],
   "source": [
    "t"
   ]
  },
  {
   "cell_type": "code",
   "execution_count": null,
   "id": "ff48db94",
   "metadata": {},
   "outputs": [],
   "source": [
    "i=eval(input('enter tuple elements:'))\n"
   ]
  },
  {
   "cell_type": "code",
   "execution_count": null,
   "id": "69e81c2d",
   "metadata": {},
   "outputs": [],
   "source": [
    "j=eval(input('enter the digits'))"
   ]
  },
  {
   "cell_type": "code",
   "execution_count": null,
   "id": "f6e3df31",
   "metadata": {},
   "outputs": [],
   "source": [
    "j"
   ]
  },
  {
   "cell_type": "code",
   "execution_count": null,
   "id": "9339304e",
   "metadata": {},
   "outputs": [],
   "source": [
    "p=tuple(input(\"enter nos\"))"
   ]
  },
  {
   "cell_type": "code",
   "execution_count": null,
   "id": "cbb696ea",
   "metadata": {},
   "outputs": [],
   "source": [
    "p"
   ]
  },
  {
   "cell_type": "code",
   "execution_count": 11,
   "id": "a3e0042d",
   "metadata": {},
   "outputs": [
    {
     "name": "stdout",
     "output_type": "stream",
     "text": [
      "Enter the numbers:asdfhhgjkvlwerwiw\n"
     ]
    }
   ],
   "source": [
    "a=tuple(input(\"Enter the numbers:\"))\n"
   ]
  },
  {
   "cell_type": "code",
   "execution_count": 12,
   "id": "c02fa542",
   "metadata": {},
   "outputs": [
    {
     "data": {
      "text/plain": [
       "('a',\n",
       " 's',\n",
       " 'd',\n",
       " 'f',\n",
       " 'h',\n",
       " 'h',\n",
       " 'g',\n",
       " 'j',\n",
       " 'k',\n",
       " 'v',\n",
       " 'l',\n",
       " 'w',\n",
       " 'e',\n",
       " 'r',\n",
       " 'w',\n",
       " 'i',\n",
       " 'w')"
      ]
     },
     "execution_count": 12,
     "metadata": {},
     "output_type": "execute_result"
    }
   ],
   "source": [
    "a"
   ]
  },
  {
   "cell_type": "code",
   "execution_count": 13,
   "id": "6ab26148",
   "metadata": {},
   "outputs": [
    {
     "name": "stdout",
     "output_type": "stream",
     "text": [
      "a\n",
      "s\n",
      "d\n",
      "f\n",
      "h\n",
      "h\n",
      "g\n",
      "j\n",
      "k\n",
      "v\n",
      "l\n",
      "w\n",
      "e\n",
      "r\n",
      "w\n",
      "i\n",
      "w\n"
     ]
    }
   ],
   "source": [
    "for j in a:\n",
    "    print(j)"
   ]
  },
  {
   "cell_type": "code",
   "execution_count": 18,
   "id": "952bff7a",
   "metadata": {},
   "outputs": [],
   "source": [
    "h=tuple('uaidaduidaudad')\n",
    "g=tuple('dadgahsdgagdkawdduw')\n"
   ]
  },
  {
   "cell_type": "code",
   "execution_count": 19,
   "id": "329feed4",
   "metadata": {},
   "outputs": [
    {
     "data": {
      "text/plain": [
       "('u',\n",
       " 'a',\n",
       " 'i',\n",
       " 'd',\n",
       " 'a',\n",
       " 'd',\n",
       " 'u',\n",
       " 'i',\n",
       " 'd',\n",
       " 'a',\n",
       " 'u',\n",
       " 'd',\n",
       " 'a',\n",
       " 'd',\n",
       " 'd',\n",
       " 'a',\n",
       " 'd',\n",
       " 'g',\n",
       " 'a',\n",
       " 'h',\n",
       " 's',\n",
       " 'd',\n",
       " 'g',\n",
       " 'a',\n",
       " 'g',\n",
       " 'd',\n",
       " 'k',\n",
       " 'a',\n",
       " 'w',\n",
       " 'd',\n",
       " 'd',\n",
       " 'u',\n",
       " 'w')"
      ]
     },
     "execution_count": 19,
     "metadata": {},
     "output_type": "execute_result"
    }
   ],
   "source": [
    "h+g"
   ]
  },
  {
   "cell_type": "code",
   "execution_count": 20,
   "id": "6439b0bc",
   "metadata": {},
   "outputs": [
    {
     "data": {
      "text/plain": [
       "('u', 'a', 'i', 'd', 'a', 'd', 'u', 'i', 'd', 'a', 'u', 'd', 'a', 'd')"
      ]
     },
     "execution_count": 20,
     "metadata": {},
     "output_type": "execute_result"
    }
   ],
   "source": [
    "h"
   ]
  },
  {
   "cell_type": "code",
   "execution_count": 21,
   "id": "fcf1ad7f",
   "metadata": {},
   "outputs": [
    {
     "data": {
      "text/plain": [
       "('u',\n",
       " 'a',\n",
       " 'i',\n",
       " 'd',\n",
       " 'a',\n",
       " 'd',\n",
       " 'u',\n",
       " 'i',\n",
       " 'd',\n",
       " 'a',\n",
       " 'u',\n",
       " 'd',\n",
       " 'a',\n",
       " 'd',\n",
       " 'u',\n",
       " 'a',\n",
       " 'i',\n",
       " 'd',\n",
       " 'a',\n",
       " 'd',\n",
       " 'u',\n",
       " 'i',\n",
       " 'd',\n",
       " 'a',\n",
       " 'u',\n",
       " 'd',\n",
       " 'a',\n",
       " 'd',\n",
       " 'u',\n",
       " 'a',\n",
       " 'i',\n",
       " 'd',\n",
       " 'a',\n",
       " 'd',\n",
       " 'u',\n",
       " 'i',\n",
       " 'd',\n",
       " 'a',\n",
       " 'u',\n",
       " 'd',\n",
       " 'a',\n",
       " 'd')"
      ]
     },
     "execution_count": 21,
     "metadata": {},
     "output_type": "execute_result"
    }
   ],
   "source": [
    "h*3"
   ]
  },
  {
   "cell_type": "code",
   "execution_count": 22,
   "id": "b17ed589",
   "metadata": {},
   "outputs": [
    {
     "name": "stdout",
     "output_type": "stream",
     "text": [
      "u\n",
      "a\n",
      "i\n",
      "d\n",
      "a\n",
      "d\n",
      "u\n",
      "i\n",
      "d\n",
      "a\n",
      "u\n",
      "d\n",
      "a\n",
      "d\n"
     ]
    }
   ],
   "source": [
    "for k in h:\n",
    "    print(k)"
   ]
  },
  {
   "cell_type": "code",
   "execution_count": 26,
   "id": "12d5de33",
   "metadata": {},
   "outputs": [],
   "source": [
    "u1=tuple('king')\n"
   ]
  },
  {
   "cell_type": "code",
   "execution_count": 27,
   "id": "80808d7f",
   "metadata": {},
   "outputs": [
    {
     "data": {
      "text/plain": [
       "('k', 'i', 'n', 'g')"
      ]
     },
     "execution_count": 27,
     "metadata": {},
     "output_type": "execute_result"
    }
   ],
   "source": [
    "u1"
   ]
  },
  {
   "cell_type": "code",
   "execution_count": 28,
   "id": "5bedf9c0",
   "metadata": {},
   "outputs": [
    {
     "data": {
      "text/plain": [
       "('k', 'i', 'n', 'g', 'k', 'i', 'n', 'g', 'k', 'i', 'n', 'g')"
      ]
     },
     "execution_count": 28,
     "metadata": {},
     "output_type": "execute_result"
    }
   ],
   "source": [
    "u1*3"
   ]
  },
  {
   "cell_type": "code",
   "execution_count": 29,
   "id": "b6f13ca0",
   "metadata": {},
   "outputs": [],
   "source": [
    "r=['p','o','j',87,34,2,12]\n",
    "s=[9,8,7,'d','g',1,2,3,4]"
   ]
  },
  {
   "cell_type": "code",
   "execution_count": 30,
   "id": "d44fcaf9",
   "metadata": {},
   "outputs": [],
   "source": [
    "y=r+s"
   ]
  },
  {
   "cell_type": "code",
   "execution_count": 31,
   "id": "ee7d33d4",
   "metadata": {},
   "outputs": [
    {
     "data": {
      "text/plain": [
       "['p', 'o', 'j', 87, 34, 2, 12, 9, 8, 7, 'd', 'g', 1, 2, 3, 4]"
      ]
     },
     "execution_count": 31,
     "metadata": {},
     "output_type": "execute_result"
    }
   ],
   "source": [
    "y"
   ]
  },
  {
   "cell_type": "code",
   "execution_count": 32,
   "id": "c8d8d223",
   "metadata": {},
   "outputs": [],
   "source": [
    " f=(1,2,3,4,5,6,78,9,10,12,13,14,15,17)\n"
   ]
  },
  {
   "cell_type": "code",
   "execution_count": 33,
   "id": "b8aa59d4",
   "metadata": {},
   "outputs": [
    {
     "data": {
      "text/plain": [
       "(1, 2, 3, 4, 5, 6, 78, 9, 10, 12, 13, 14, 15, 17)"
      ]
     },
     "execution_count": 33,
     "metadata": {},
     "output_type": "execute_result"
    }
   ],
   "source": [
    "f"
   ]
  },
  {
   "cell_type": "code",
   "execution_count": 48,
   "id": "bb2e21aa",
   "metadata": {},
   "outputs": [
    {
     "name": "stdout",
     "output_type": "stream",
     "text": [
      "(4, 5, 6, 78, 9, 10, 12, 13, 14, 15)\n"
     ]
    }
   ],
   "source": [
    "print(f[3:-1])"
   ]
  },
  {
   "cell_type": "code",
   "execution_count": 35,
   "id": "7e2920e6",
   "metadata": {},
   "outputs": [
    {
     "name": "stdout",
     "output_type": "stream",
     "text": [
      "(17, 14, 12, 9, 6, 4, 2)\n"
     ]
    }
   ],
   "source": [
    "print(f[::-2])"
   ]
  },
  {
   "cell_type": "code",
   "execution_count": 43,
   "id": "1e2342a9",
   "metadata": {},
   "outputs": [
    {
     "name": "stdout",
     "output_type": "stream",
     "text": [
      "(1, 2, 3, 4, 5, 6, 78)\n"
     ]
    }
   ],
   "source": [
    "print(f[:-7:1])"
   ]
  },
  {
   "cell_type": "markdown",
   "id": "ba49a09f",
   "metadata": {},
   "source": [
    "u=f[1:6]*3"
   ]
  },
  {
   "cell_type": "code",
   "execution_count": 45,
   "id": "dff0e2e4",
   "metadata": {},
   "outputs": [
    {
     "data": {
      "text/plain": [
       "(2, 3, 4, 5, 6, 2, 3, 4, 5, 6, 2, 3, 4, 5, 6)"
      ]
     },
     "execution_count": 45,
     "metadata": {},
     "output_type": "execute_result"
    }
   ],
   "source": [
    "f[1:6]*3"
   ]
  },
  {
   "cell_type": "code",
   "execution_count": 46,
   "id": "c395c5ed",
   "metadata": {},
   "outputs": [],
   "source": [
    "j=(98,78,65,98)"
   ]
  },
  {
   "cell_type": "code",
   "execution_count": 47,
   "id": "c381228a",
   "metadata": {},
   "outputs": [
    {
     "data": {
      "text/plain": [
       "False"
      ]
     },
     "execution_count": 47,
     "metadata": {},
     "output_type": "execute_result"
    }
   ],
   "source": [
    "f==j"
   ]
  },
  {
   "cell_type": "code",
   "execution_count": 49,
   "id": "ee3a4f1c",
   "metadata": {},
   "outputs": [
    {
     "data": {
      "text/plain": [
       "True"
      ]
     },
     "execution_count": 49,
     "metadata": {},
     "output_type": "execute_result"
    }
   ],
   "source": [
    "f<j"
   ]
  },
  {
   "cell_type": "code",
   "execution_count": 50,
   "id": "92ec5a16",
   "metadata": {},
   "outputs": [
    {
     "data": {
      "text/plain": [
       "False"
      ]
     },
     "execution_count": 50,
     "metadata": {},
     "output_type": "execute_result"
    }
   ],
   "source": [
    "f>j"
   ]
  },
  {
   "cell_type": "code",
   "execution_count": 51,
   "id": "77dba752",
   "metadata": {},
   "outputs": [],
   "source": [
    "h=('a','j')\n"
   ]
  },
  {
   "cell_type": "code",
   "execution_count": 52,
   "id": "c991748d",
   "metadata": {},
   "outputs": [
    {
     "ename": "TypeError",
     "evalue": "'>' not supported between instances of 'str' and 'int'",
     "output_type": "error",
     "traceback": [
      "\u001b[1;31m---------------------------------------------------------------------------\u001b[0m",
      "\u001b[1;31mTypeError\u001b[0m                                 Traceback (most recent call last)",
      "\u001b[1;32m<ipython-input-52-5e636c7c5a74>\u001b[0m in \u001b[0;36m<module>\u001b[1;34m\u001b[0m\n\u001b[1;32m----> 1\u001b[1;33m \u001b[0mh\u001b[0m\u001b[1;33m>\u001b[0m\u001b[0mf\u001b[0m\u001b[1;33m\u001b[0m\u001b[1;33m\u001b[0m\u001b[0m\n\u001b[0m",
      "\u001b[1;31mTypeError\u001b[0m: '>' not supported between instances of 'str' and 'int'"
     ]
    }
   ],
   "source": [
    "h>f"
   ]
  },
  {
   "cell_type": "code",
   "execution_count": null,
   "id": "26f97d3e",
   "metadata": {},
   "outputs": [],
   "source": []
  }
 ],
 "metadata": {
  "kernelspec": {
   "display_name": "Python 3 (ipykernel)",
   "language": "python",
   "name": "python3"
  },
  "language_info": {
   "codemirror_mode": {
    "name": "ipython",
    "version": 3
   },
   "file_extension": ".py",
   "mimetype": "text/x-python",
   "name": "python",
   "nbconvert_exporter": "python",
   "pygments_lexer": "ipython3",
   "version": "3.9.7"
  }
 },
 "nbformat": 4,
 "nbformat_minor": 5
}
