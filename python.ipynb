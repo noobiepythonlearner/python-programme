{
 "cells": [
  {
   "cell_type": "code",
   "execution_count": 20,
   "id": "ee85ec9e",
   "metadata": {},
   "outputs": [
    {
     "name": "stdout",
     "output_type": "stream",
     "text": [
      "sum= 7\n"
     ]
    }
   ],
   "source": [
    "x= 2\n",
    "y=5 \n",
    "print(\"sum=\",x+y)\n",
    "\n"
   ]
  },
  {
   "cell_type": "code",
   "execution_count": 23,
   "id": "dd1a911a",
   "metadata": {},
   "outputs": [
    {
     "name": "stdout",
     "output_type": "stream",
     "text": [
      "sum= 16\n"
     ]
    }
   ],
   "source": [
    "a=9\n",
    "b=7\n",
    "c=a+b\n",
    "print(\"sum=\",c)"
   ]
  },
  {
   "cell_type": "code",
   "execution_count": 26,
   "id": "523aac65",
   "metadata": {},
   "outputs": [
    {
     "name": "stdout",
     "output_type": "stream",
     "text": [
      "first number 5\n",
      "second number 6\n",
      "11\n"
     ]
    }
   ],
   "source": [
    "a=int(input(\"first number \"))\n",
    "b=int(input(\"second number \"))\n",
    "c=a+b\n",
    "print(c)\n"
   ]
  },
  {
   "cell_type": "code",
   "execution_count": 28,
   "id": "92b280cf",
   "metadata": {},
   "outputs": [
    {
     "ename": "SyntaxError",
     "evalue": "invalid syntax (<ipython-input-28-6135c6da936c>, line 1)",
     "output_type": "error",
     "traceback": [
      "\u001b[1;36m  File \u001b[1;32m\"<ipython-input-28-6135c6da936c>\"\u001b[1;36m, line \u001b[1;32m1\u001b[0m\n\u001b[1;33m    print(hello world)\u001b[0m\n\u001b[1;37m                ^\u001b[0m\n\u001b[1;31mSyntaxError\u001b[0m\u001b[1;31m:\u001b[0m invalid syntax\n"
     ]
    }
   ],
   "source": [
    "print(hello world)"
   ]
  },
  {
   "cell_type": "code",
   "execution_count": 30,
   "id": "e0fbbe58",
   "metadata": {},
   "outputs": [
    {
     "name": "stdout",
     "output_type": "stream",
     "text": [
      "7\n"
     ]
    }
   ],
   "source": [
    "print(3+4)\n"
   ]
  },
  {
   "cell_type": "code",
   "execution_count": 32,
   "id": "fe2b6b25",
   "metadata": {},
   "outputs": [
    {
     "name": "stdout",
     "output_type": "stream",
     "text": [
      "-5\n"
     ]
    }
   ],
   "source": [
    "print(9-14)"
   ]
  },
  {
   "cell_type": "code",
   "execution_count": 34,
   "id": "368961e8",
   "metadata": {},
   "outputs": [
    {
     "name": "stdout",
     "output_type": "stream",
     "text": [
      "False\n"
     ]
    }
   ],
   "source": [
    "a=-3\n",
    "b=6\n",
    "print(b<a)"
   ]
  },
  {
   "cell_type": "code",
   "execution_count": 35,
   "id": "e5ec6759",
   "metadata": {},
   "outputs": [
    {
     "name": "stdout",
     "output_type": "stream",
     "text": [
      "hello world\n"
     ]
    }
   ],
   "source": [
    "print(\n",
    "    'hello world')"
   ]
  },
  {
   "cell_type": "code",
   "execution_count": null,
   "id": "eaa5364e",
   "metadata": {},
   "outputs": [],
   "source": [
    "print()"
   ]
  }
 ],
 "metadata": {
  "kernelspec": {
   "display_name": "Python 3",
   "language": "python",
   "name": "python3"
  },
  "language_info": {
   "codemirror_mode": {
    "name": "ipython",
    "version": 3
   },
   "file_extension": ".py",
   "mimetype": "text/x-python",
   "name": "python",
   "nbconvert_exporter": "python",
   "pygments_lexer": "ipython3",
   "version": "3.8.8"
  }
 },
 "nbformat": 4,
 "nbformat_minor": 5
}
