{
 "cells": [
  {
   "cell_type": "code",
   "execution_count": 8,
   "id": "6e53e02a",
   "metadata": {},
   "outputs": [
    {
     "name": "stdout",
     "output_type": "stream",
     "text": [
      "enter value of n:4\n",
      "the sum of squares = 30.0\n"
     ]
    }
   ],
   "source": [
    "n=int(input('enter value of n:'))\n",
    "sumval=((n)*(n+1)*(2*n+1))/6\n",
    "print('the sum of squares =',sumval)\n",
    "        "
   ]
  },
  {
   "cell_type": "code",
   "execution_count": 14,
   "id": "fe894325",
   "metadata": {},
   "outputs": [
    {
     "name": "stdout",
     "output_type": "stream",
     "text": [
      "ente value of n:5\n",
      "the sum of squares = 55\n"
     ]
    }
   ],
   "source": [
    "x=int(input('enter value of n:'))\n",
    "sum1=0\n",
    "for i in range(1,x+1):\n",
    "    sum1=sum1+(i*i)\n",
    "    i+=1\n",
    "print('the sum of squares =',sum1)"
   ]
  },
  {
   "cell_type": "markdown",
   "id": "40fecab1",
   "metadata": {},
   "source": []
  },
  {
   "cell_type": "code",
   "execution_count": 20,
   "id": "fb6288a1",
   "metadata": {
    "scrolled": true
   },
   "outputs": [
    {
     "name": "stdout",
     "output_type": "stream",
     "text": [
      "enter the number 17\n",
      "1\n",
      "2\n",
      "3\n",
      "5\n",
      "7\n",
      "9\n",
      "11\n",
      "13\n",
      "15\n",
      "17\n"
     ]
    }
   ],
   "source": [
    "\n",
    "        "
   ]
  },
  {
   "cell_type": "code",
   "execution_count": 24,
   "id": "61a855b1",
   "metadata": {},
   "outputs": [
    {
     "data": {
      "text/plain": [
       "[2, 3, 4, 5, 6, 7, 's', 12, 23, 'k', 9, 78]"
      ]
     },
     "execution_count": 24,
     "metadata": {},
     "output_type": "execute_result"
    }
   ],
   "source": [
    "j=[2,3,4,5,6,7,'s']\n",
    "d=(12,23,'k',9,78)\n",
    "y={'number',90,999}\n",
    "j.extend(list(d))\n",
    "j"
   ]
  },
  {
   "cell_type": "code",
   "execution_count": 25,
   "id": "1c7a35ef",
   "metadata": {},
   "outputs": [],
   "source": [
    "j.extend(list(y))"
   ]
  },
  {
   "cell_type": "code",
   "execution_count": 26,
   "id": "f5250edd",
   "metadata": {},
   "outputs": [
    {
     "data": {
      "text/plain": [
       "[2, 3, 4, 5, 6, 7, 's', 12, 23, 'k', 9, 78, 'number', 90, 999]"
      ]
     },
     "execution_count": 26,
     "metadata": {},
     "output_type": "execute_result"
    }
   ],
   "source": [
    "j"
   ]
  },
  {
   "cell_type": "code",
   "execution_count": 27,
   "id": "c4ae4501",
   "metadata": {},
   "outputs": [
    {
     "data": {
      "text/plain": [
       "['s', 'd', 'f', 'h']"
      ]
     },
     "execution_count": 27,
     "metadata": {},
     "output_type": "execute_result"
    }
   ],
   "source": [
    "list=['s','d','f','h']\n",
    "list"
   ]
  },
  {
   "cell_type": "code",
   "execution_count": 28,
   "id": "6c11a8b6",
   "metadata": {},
   "outputs": [
    {
     "data": {
      "text/plain": [
       "5"
      ]
     },
     "execution_count": 28,
     "metadata": {},
     "output_type": "execute_result"
    }
   ],
   "source": [
    "list5=['h','e','l','l','o','t','h','e','r','e']\n",
    "list5.index('t')"
   ]
  },
  {
   "cell_type": "code",
   "execution_count": 29,
   "id": "d6ef5e18",
   "metadata": {},
   "outputs": [
    {
     "data": {
      "text/plain": [
       "2"
      ]
     },
     "execution_count": 29,
     "metadata": {},
     "output_type": "execute_result"
    }
   ],
   "source": [
    "list5.index('l')\n"
   ]
  },
  {
   "cell_type": "code",
   "execution_count": 30,
   "id": "bf009cba",
   "metadata": {},
   "outputs": [
    {
     "name": "stdout",
     "output_type": "stream",
     "text": [
      "index of e is: 1\n"
     ]
    }
   ],
   "source": [
    "print('index of e is:',list5.index('e'))"
   ]
  },
  {
   "cell_type": "code",
   "execution_count": 31,
   "id": "fab4754b",
   "metadata": {},
   "outputs": [
    {
     "name": "stdout",
     "output_type": "stream",
     "text": [
      "index of r is: 8\n"
     ]
    }
   ],
   "source": [
    "print('index of r is:',list5.index('r'))"
   ]
  },
  {
   "cell_type": "code",
   "execution_count": 32,
   "id": "db907417",
   "metadata": {},
   "outputs": [],
   "source": [
    "list5.insert(2,'y')"
   ]
  },
  {
   "cell_type": "code",
   "execution_count": 33,
   "id": "934b8434",
   "metadata": {},
   "outputs": [
    {
     "data": {
      "text/plain": [
       "['h', 'e', 'y', 'l', 'l', 'o', 't', 'h', 'e', 'r', 'e']"
      ]
     },
     "execution_count": 33,
     "metadata": {},
     "output_type": "execute_result"
    }
   ],
   "source": [
    "list5"
   ]
  },
  {
   "cell_type": "code",
   "execution_count": 34,
   "id": "219471e7",
   "metadata": {},
   "outputs": [
    {
     "data": {
      "text/plain": [
       "['h', 'e', 'y', 'o', 't', 'h', 'e', 'r', 'e']"
      ]
     },
     "execution_count": 34,
     "metadata": {},
     "output_type": "execute_result"
    }
   ],
   "source": [
    "list5.pop(3)\n",
    "list5.pop(3)\n",
    "list5"
   ]
  },
  {
   "cell_type": "code",
   "execution_count": 35,
   "id": "4259d766",
   "metadata": {},
   "outputs": [
    {
     "data": {
      "text/plain": [
       "'o'"
      ]
     },
     "execution_count": 35,
     "metadata": {},
     "output_type": "execute_result"
    }
   ],
   "source": [
    "list5.pop(3)\n"
   ]
  },
  {
   "cell_type": "code",
   "execution_count": 36,
   "id": "9b5b8724",
   "metadata": {},
   "outputs": [
    {
     "data": {
      "text/plain": [
       "['h', 'e', 'y', 't', 'h', 'e', 'r', 'e']"
      ]
     },
     "execution_count": 36,
     "metadata": {},
     "output_type": "execute_result"
    }
   ],
   "source": [
    "list5"
   ]
  },
  {
   "cell_type": "code",
   "execution_count": 39,
   "id": "7b60db87",
   "metadata": {},
   "outputs": [
    {
     "ename": "TypeError",
     "evalue": "list indices must be integers or slices, not str",
     "output_type": "error",
     "traceback": [
      "\u001b[1;31m---------------------------------------------------------------------------\u001b[0m",
      "\u001b[1;31mTypeError\u001b[0m                                 Traceback (most recent call last)",
      "\u001b[1;32m<ipython-input-39-7c0a6400e9a0>\u001b[0m in \u001b[0;36m<module>\u001b[1;34m\u001b[0m\n\u001b[1;32m----> 1\u001b[1;33m \u001b[1;32mdel\u001b[0m \u001b[0mlist5\u001b[0m\u001b[1;33m[\u001b[0m\u001b[1;34m\"l\"\u001b[0m\u001b[1;33m]\u001b[0m\u001b[1;33m\u001b[0m\u001b[1;33m\u001b[0m\u001b[0m\n\u001b[0m",
      "\u001b[1;31mTypeError\u001b[0m: list indices must be integers or slices, not str"
     ]
    }
   ],
   "source": []
  },
  {
   "cell_type": "code",
   "execution_count": 41,
   "id": "a8927af6",
   "metadata": {},
   "outputs": [],
   "source": [
    "list5.remove('e')"
   ]
  },
  {
   "cell_type": "code",
   "execution_count": 42,
   "id": "11449fd7",
   "metadata": {},
   "outputs": [
    {
     "data": {
      "text/plain": [
       "['h', 'y', 't', 'h', 'e', 'r', 'e']"
      ]
     },
     "execution_count": 42,
     "metadata": {},
     "output_type": "execute_result"
    }
   ],
   "source": [
    "list5\n"
   ]
  },
  {
   "cell_type": "code",
   "execution_count": 43,
   "id": "5bca2e57",
   "metadata": {},
   "outputs": [
    {
     "name": "stdout",
     "output_type": "stream",
     "text": [
      "i'm fine\n"
     ]
    }
   ],
   "source": []
  },
  {
   "cell_type": "code",
   "execution_count": null,
   "id": "620f6dee",
   "metadata": {},
   "outputs": [],
   "source": []
  }
 ],
 "metadata": {
  "kernelspec": {
   "display_name": "Python 3 (ipykernel)",
   "language": "python",
   "name": "python3"
  },
  "language_info": {
   "codemirror_mode": {
    "name": "ipython",
    "version": 3
   },
   "file_extension": ".py",
   "mimetype": "text/x-python",
   "name": "python",
   "nbconvert_exporter": "python",
   "pygments_lexer": "ipython3",
   "version": "3.9.7"
  }
 },
 "nbformat": 4,
 "nbformat_minor": 5
}
