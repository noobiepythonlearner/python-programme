{
 "cells": [
  {
   "cell_type": "code",
   "execution_count": 1,
   "id": "deefa7d2",
   "metadata": {},
   "outputs": [
    {
     "data": {
      "text/plain": [
       "2"
      ]
     },
     "execution_count": 1,
     "metadata": {},
     "output_type": "execute_result"
    }
   ],
   "source": [
    "str1=\"this sentence is very lenghty234\"\n",
    "str1.find(\"is\")\n"
   ]
  },
  {
   "cell_type": "code",
   "execution_count": 2,
   "id": "20a78281",
   "metadata": {},
   "outputs": [
    {
     "data": {
      "text/plain": [
       "-1"
      ]
     },
     "execution_count": 2,
     "metadata": {},
     "output_type": "execute_result"
    }
   ],
   "source": [
    "str1.find('no')"
   ]
  },
  {
   "cell_type": "code",
   "execution_count": 3,
   "id": "53b76743",
   "metadata": {},
   "outputs": [
    {
     "data": {
      "text/plain": [
       "14"
      ]
     },
     "execution_count": 3,
     "metadata": {},
     "output_type": "execute_result"
    }
   ],
   "source": [
    "str1.find('is',3)"
   ]
  },
  {
   "cell_type": "code",
   "execution_count": 4,
   "id": "68e26ec5",
   "metadata": {},
   "outputs": [
    {
     "data": {
      "text/plain": [
       "17"
      ]
     },
     "execution_count": 4,
     "metadata": {},
     "output_type": "execute_result"
    }
   ],
   "source": [
    "str1.index('very')\n"
   ]
  },
  {
   "cell_type": "code",
   "execution_count": 5,
   "id": "5257e4f7",
   "metadata": {},
   "outputs": [
    {
     "ename": "ValueError",
     "evalue": "substring not found",
     "output_type": "error",
     "traceback": [
      "\u001b[1;31m---------------------------------------------------------------------------\u001b[0m",
      "\u001b[1;31mValueError\u001b[0m                                Traceback (most recent call last)",
      "\u001b[1;32m<ipython-input-5-de0d11d154e0>\u001b[0m in \u001b[0;36m<module>\u001b[1;34m\u001b[0m\n\u001b[1;32m----> 1\u001b[1;33m \u001b[0mstr1\u001b[0m\u001b[1;33m.\u001b[0m\u001b[0mindex\u001b[0m\u001b[1;33m(\u001b[0m\u001b[1;34m'good'\u001b[0m\u001b[1;33m)\u001b[0m\u001b[1;33m\u001b[0m\u001b[1;33m\u001b[0m\u001b[0m\n\u001b[0m",
      "\u001b[1;31mValueError\u001b[0m: substring not found"
     ]
    }
   ],
   "source": [
    "str1.index('good')"
   ]
  },
  {
   "cell_type": "markdown",
   "id": "5b334799",
   "metadata": {},
   "source": [
    "str1.index('leng',15)"
   ]
  },
  {
   "cell_type": "code",
   "execution_count": null,
   "id": "535ef747",
   "metadata": {},
   "outputs": [],
   "source": [
    "str1.isalnum()\n"
   ]
  },
  {
   "cell_type": "code",
   "execution_count": null,
   "id": "fe2bd8ef",
   "metadata": {},
   "outputs": [],
   "source": [
    "str2=\"king1234\"\n",
    "str2.isalnum()\n"
   ]
  },
  {
   "cell_type": "code",
   "execution_count": null,
   "id": "3bd3d38d",
   "metadata": {},
   "outputs": [],
   "source": [
    "str1.isalpha()"
   ]
  },
  {
   "cell_type": "code",
   "execution_count": null,
   "id": "7caabb2e",
   "metadata": {},
   "outputs": [],
   "source": [
    "str.isalpha()"
   ]
  },
  {
   "cell_type": "code",
   "execution_count": null,
   "id": "fb8cfb28",
   "metadata": {},
   "outputs": [],
   "source": [
    "str4=\"the numbers are 1234\"\n",
    "str4.isalpha()\n"
   ]
  },
  {
   "cell_type": "code",
   "execution_count": null,
   "id": "99b2ac8a",
   "metadata": {},
   "outputs": [],
   "source": [
    "str5=\"new299\"\n",
    "str5.isdigit()"
   ]
  },
  {
   "cell_type": "code",
   "execution_count": null,
   "id": "4ecda4af",
   "metadata": {},
   "outputs": [],
   "source": [
    "str6=\"87965\"\n",
    "str6.isdigit()"
   ]
  },
  {
   "cell_type": "code",
   "execution_count": null,
   "id": "570f4d38",
   "metadata": {},
   "outputs": [],
   "source": [
    "str7=\"  \"\n",
    "str7.isspace()"
   ]
  },
  {
   "cell_type": "code",
   "execution_count": null,
   "id": "2df50830",
   "metadata": {},
   "outputs": [],
   "source": [
    "str8=\"new york\"\n",
    "str8.isspace()"
   ]
  },
  {
   "cell_type": "code",
   "execution_count": null,
   "id": "de22dc64",
   "metadata": {},
   "outputs": [],
   "source": [
    "str9=\"the king is back\"\n",
    "str9.islower()\n"
   ]
  },
  {
   "cell_type": "code",
   "execution_count": null,
   "id": "48a29fba",
   "metadata": {},
   "outputs": [],
   "source": [
    "y=\"SHERSHAH\"\n",
    "y.islower()"
   ]
  },
  {
   "cell_type": "code",
   "execution_count": null,
   "id": "08d11047",
   "metadata": {},
   "outputs": [],
   "source": [
    "y.isupper()"
   ]
  },
  {
   "cell_type": "code",
   "execution_count": null,
   "id": "0a663d3e",
   "metadata": {},
   "outputs": [],
   "source": [
    "str9.isupper()"
   ]
  },
  {
   "cell_type": "code",
   "execution_count": null,
   "id": "409a0d45",
   "metadata": {},
   "outputs": [],
   "source": [
    "b=\"This Is A Title\"\n",
    "b.istitle()"
   ]
  },
  {
   "cell_type": "code",
   "execution_count": null,
   "id": "93142ed4",
   "metadata": {},
   "outputs": [],
   "source": [
    "c=\"This Is not A Title\"\n",
    "c.istitle()"
   ]
  },
  {
   "cell_type": "code",
   "execution_count": null,
   "id": "bf3376e4",
   "metadata": {},
   "outputs": [],
   "source": [
    "h=\"people are awesome\"\n",
    "h.strip('people')"
   ]
  },
  {
   "cell_type": "code",
   "execution_count": null,
   "id": "f5caf77e",
   "metadata": {},
   "outputs": [],
   "source": [
    "k= \"high time to cut\"\n",
    "k.strip('t')\n",
    "\n"
   ]
  },
  {
   "cell_type": "code",
   "execution_count": null,
   "id": "b85ce4fb",
   "metadata": {},
   "outputs": [],
   "source": [
    "k.strip('t')"
   ]
  },
  {
   "cell_type": "code",
   "execution_count": null,
   "id": "d5000d26",
   "metadata": {},
   "outputs": [],
   "source": [
    "l=\"believe in yourself\"\n",
    "l.strip('believe')"
   ]
  },
  {
   "cell_type": "code",
   "execution_count": null,
   "id": "ddabe8f1",
   "metadata": {},
   "outputs": [],
   "source": [
    "b=\"sachin is a great player\"\n",
    "b.partition('n')"
   ]
  },
  {
   "cell_type": "code",
   "execution_count": null,
   "id": "2aee4080",
   "metadata": {},
   "outputs": [],
   "source": [
    "b.partition('c')"
   ]
  },
  {
   "cell_type": "code",
   "execution_count": null,
   "id": "372856fe",
   "metadata": {},
   "outputs": [],
   "source": [
    "b.split()"
   ]
  },
  {
   "cell_type": "code",
   "execution_count": null,
   "id": "d1cbc2dc",
   "metadata": {},
   "outputs": [],
   "source": [
    "n='SaCHIN Is A greAt PLAyer'\n",
    "n.swapcase()"
   ]
  },
  {
   "cell_type": "code",
   "execution_count": 16,
   "id": "3910e02a",
   "metadata": {},
   "outputs": [
    {
     "ename": "NameError",
     "evalue": "name 'n' is not defined",
     "output_type": "error",
     "traceback": [
      "\u001b[1;31m---------------------------------------------------------------------------\u001b[0m",
      "\u001b[1;31mNameError\u001b[0m                                 Traceback (most recent call last)",
      "\u001b[1;32m<ipython-input-16-3026dde3ef45>\u001b[0m in \u001b[0;36m<module>\u001b[1;34m\u001b[0m\n\u001b[0;32m      1\u001b[0m \u001b[0me\u001b[0m\u001b[1;33m=\u001b[0m\u001b[1;34m'*'\u001b[0m\u001b[1;33m\u001b[0m\u001b[1;33m\u001b[0m\u001b[0m\n\u001b[1;32m----> 2\u001b[1;33m \u001b[0me\u001b[0m\u001b[1;33m.\u001b[0m\u001b[0mjoin\u001b[0m\u001b[1;33m(\u001b[0m\u001b[0mn\u001b[0m\u001b[1;33m)\u001b[0m\u001b[1;33m\u001b[0m\u001b[1;33m\u001b[0m\u001b[0m\n\u001b[0m",
      "\u001b[1;31mNameError\u001b[0m: name 'n' is not defined"
     ]
    }
   ],
   "source": [
    "e='*'\n",
    "e.join(n)"
   ]
  },
  {
   "cell_type": "code",
   "execution_count": 17,
   "id": "033ba625",
   "metadata": {},
   "outputs": [
    {
     "ename": "NameError",
     "evalue": "name 'n' is not defined",
     "output_type": "error",
     "traceback": [
      "\u001b[1;31m---------------------------------------------------------------------------\u001b[0m",
      "\u001b[1;31mNameError\u001b[0m                                 Traceback (most recent call last)",
      "\u001b[1;32m<ipython-input-17-35600ac11a33>\u001b[0m in \u001b[0;36m<module>\u001b[1;34m\u001b[0m\n\u001b[1;32m----> 1\u001b[1;33m \u001b[1;34m'$'\u001b[0m\u001b[1;33m.\u001b[0m\u001b[0mjoin\u001b[0m\u001b[1;33m(\u001b[0m\u001b[0mn\u001b[0m\u001b[1;33m)\u001b[0m\u001b[1;33m\u001b[0m\u001b[1;33m\u001b[0m\u001b[0m\n\u001b[0m",
      "\u001b[1;31mNameError\u001b[0m: name 'n' is not defined"
     ]
    }
   ],
   "source": [
    "'$'.join(n)"
   ]
  },
  {
   "cell_type": "code",
   "execution_count": null,
   "id": "9743dd5d",
   "metadata": {},
   "outputs": [],
   "source": [
    "n.replace('Is,was')"
   ]
  },
  {
   "cell_type": "code",
   "execution_count": null,
   "id": "e8ac0560",
   "metadata": {},
   "outputs": [],
   "source": [
    "n.replace('Is,was')"
   ]
  },
  {
   "cell_type": "code",
   "execution_count": 7,
   "id": "d995fbad",
   "metadata": {},
   "outputs": [],
   "source": [
    "p='virat is the greatest of all'\n"
   ]
  },
  {
   "cell_type": "code",
   "execution_count": 6,
   "id": "a2916e37",
   "metadata": {},
   "outputs": [
    {
     "ename": "NameError",
     "evalue": "name 'p' is not defined",
     "output_type": "error",
     "traceback": [
      "\u001b[1;31m---------------------------------------------------------------------------\u001b[0m",
      "\u001b[1;31mNameError\u001b[0m                                 Traceback (most recent call last)",
      "\u001b[1;32m<ipython-input-6-9aa09e6665ba>\u001b[0m in \u001b[0;36m<module>\u001b[1;34m\u001b[0m\n\u001b[1;32m----> 1\u001b[1;33m \u001b[0mp\u001b[0m\u001b[1;33m.\u001b[0m\u001b[0mreplace\u001b[0m\u001b[1;33m(\u001b[0m\u001b[1;34m'is,was'\u001b[0m\u001b[1;33m)\u001b[0m\u001b[1;33m\u001b[0m\u001b[1;33m\u001b[0m\u001b[0m\n\u001b[0m",
      "\u001b[1;31mNameError\u001b[0m: name 'p' is not defined"
     ]
    }
   ],
   "source": [
    "p.replace('is,was')"
   ]
  },
  {
   "cell_type": "code",
   "execution_count": 8,
   "id": "dce5849b",
   "metadata": {},
   "outputs": [
    {
     "data": {
      "text/plain": [
       "'virat is the greatest of all'"
      ]
     },
     "execution_count": 8,
     "metadata": {},
     "output_type": "execute_result"
    }
   ],
   "source": [
    "p"
   ]
  },
  {
   "cell_type": "code",
   "execution_count": 9,
   "id": "1df7322e",
   "metadata": {},
   "outputs": [
    {
     "ename": "NameError",
     "evalue": "name 'defined' is not defined",
     "output_type": "error",
     "traceback": [
      "\u001b[1;31m---------------------------------------------------------------------------\u001b[0m",
      "\u001b[1;31mNameError\u001b[0m                                 Traceback (most recent call last)",
      "\u001b[1;32m<ipython-input-9-4ea64273073a>\u001b[0m in \u001b[0;36m<module>\u001b[1;34m\u001b[0m\n\u001b[1;32m----> 1\u001b[1;33m \u001b[0mp\u001b[0m\u001b[1;33m.\u001b[0m\u001b[0mreplace\u001b[0m\u001b[1;33m(\u001b[0m\u001b[0mdefined\u001b[0m\u001b[1;33m,\u001b[0m\u001b[0mwhat\u001b[0m\u001b[1;33m)\u001b[0m\u001b[1;33m\u001b[0m\u001b[1;33m\u001b[0m\u001b[0m\n\u001b[0m",
      "\u001b[1;31mNameError\u001b[0m: name 'defined' is not defined"
     ]
    }
   ],
   "source": [
    "p.replace(defined,what)"
   ]
  },
  {
   "cell_type": "code",
   "execution_count": 10,
   "id": "640b04cd",
   "metadata": {},
   "outputs": [
    {
     "data": {
      "text/plain": [
       "'virat is the greatest of all'"
      ]
     },
     "execution_count": 10,
     "metadata": {},
     "output_type": "execute_result"
    }
   ],
   "source": [
    "p\n"
   ]
  },
  {
   "cell_type": "code",
   "execution_count": 11,
   "id": "21c27923",
   "metadata": {
    "scrolled": false
   },
   "outputs": [
    {
     "ename": "TypeError",
     "evalue": "replace expected at least 2 arguments, got 1",
     "output_type": "error",
     "traceback": [
      "\u001b[1;31m---------------------------------------------------------------------------\u001b[0m",
      "\u001b[1;31mTypeError\u001b[0m                                 Traceback (most recent call last)",
      "\u001b[1;32m<ipython-input-11-291de8a13d3f>\u001b[0m in \u001b[0;36m<module>\u001b[1;34m\u001b[0m\n\u001b[1;32m----> 1\u001b[1;33m \u001b[0mp\u001b[0m\u001b[1;33m.\u001b[0m\u001b[0mreplace\u001b[0m\u001b[1;33m(\u001b[0m\u001b[1;34m'all,him'\u001b[0m\u001b[1;33m)\u001b[0m\u001b[1;33m\u001b[0m\u001b[1;33m\u001b[0m\u001b[0m\n\u001b[0m",
      "\u001b[1;31mTypeError\u001b[0m: replace expected at least 2 arguments, got 1"
     ]
    }
   ],
   "source": []
  },
  {
   "cell_type": "code",
   "execution_count": 12,
   "id": "77f02d55",
   "metadata": {},
   "outputs": [
    {
     "data": {
      "text/plain": [
       "'virat is the greatest of all'"
      ]
     },
     "execution_count": 12,
     "metadata": {},
     "output_type": "execute_result"
    }
   ],
   "source": [
    "p\n"
   ]
  },
  {
   "cell_type": "code",
   "execution_count": 13,
   "id": "02b5fe92",
   "metadata": {},
   "outputs": [
    {
     "ename": "SyntaxError",
     "evalue": "invalid syntax (<ipython-input-13-300ac831fc5c>, line 1)",
     "output_type": "error",
     "traceback": [
      "\u001b[1;36m  File \u001b[1;32m\"<ipython-input-13-300ac831fc5c>\"\u001b[1;36m, line \u001b[1;32m1\u001b[0m\n\u001b[1;33m    p.replace (of which)\u001b[0m\n\u001b[1;37m                  ^\u001b[0m\n\u001b[1;31mSyntaxError\u001b[0m\u001b[1;31m:\u001b[0m invalid syntax\n"
     ]
    }
   ],
   "source": [
    "p.replace (of which)"
   ]
  },
  {
   "cell_type": "code",
   "execution_count": 14,
   "id": "94acd843",
   "metadata": {},
   "outputs": [
    {
     "data": {
      "text/plain": [
       "'virat is the greatest of all'"
      ]
     },
     "execution_count": 14,
     "metadata": {},
     "output_type": "execute_result"
    }
   ],
   "source": [
    "p\n"
   ]
  },
  {
   "cell_type": "code",
   "execution_count": 15,
   "id": "f9287161",
   "metadata": {},
   "outputs": [
    {
     "data": {
      "text/plain": [
       "'virat was the greatest of all'"
      ]
     },
     "execution_count": 15,
     "metadata": {},
     "output_type": "execute_result"
    }
   ],
   "source": [
    "p.replace('is','was')\n"
   ]
  },
  {
   "cell_type": "code",
   "execution_count": null,
   "id": "a20541ec",
   "metadata": {},
   "outputs": [],
   "source": []
  }
 ],
 "metadata": {
  "kernelspec": {
   "display_name": "Python 3 (ipykernel)",
   "language": "python",
   "name": "python3"
  },
  "language_info": {
   "codemirror_mode": {
    "name": "ipython",
    "version": 3
   },
   "file_extension": ".py",
   "mimetype": "text/x-python",
   "name": "python",
   "nbconvert_exporter": "python",
   "pygments_lexer": "ipython3",
   "version": "3.9.7"
  }
 },
 "nbformat": 4,
 "nbformat_minor": 5
}
