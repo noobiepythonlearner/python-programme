{
 "cells": [
  {
   "cell_type": "code",
   "execution_count": 1,
   "id": "4b5e60c3",
   "metadata": {},
   "outputs": [
    {
     "name": "stdout",
     "output_type": "stream",
     "text": [
      "the list is sorted\n"
     ]
    }
   ],
   "source": [
    "# a=list(input(\"Enter the list:\"))\n",
    "a=[2,3,4,5,6,7,8,9]\n",
    "if(a==sorted(a, reverse=False)):\n",
    "    print(\"the list is sorted\")\n",
    "else:\n",
    "    print(\"the list is not sorted\")\n"
   ]
  },
  {
   "cell_type": "code",
   "execution_count": 2,
   "id": "9427d451",
   "metadata": {},
   "outputs": [],
   "source": [
    "\n"
   ]
  },
  {
   "cell_type": "code",
   "execution_count": 7,
   "id": "a93da20b",
   "metadata": {},
   "outputs": [
    {
     "name": "stdout",
     "output_type": "stream",
     "text": [
      "199\n",
      "12\n",
      "[199, 13, 15, 32, 43, 54, 65, 87, 98, 12]\n"
     ]
    }
   ],
   "source": [
    "x=[12,13,15,32,43,54,65,87,98,199]\n",
    "temp=x[-1]\n",
    "temp1=x[0]\n",
    "print(temp)\n",
    "print(temp1)\n",
    "x[0]=temp\n",
    "x[-1]=temp1\n",
    "print(x)"
   ]
  },
  {
   "cell_type": "code",
   "execution_count": 9,
   "id": "a1edd6ae",
   "metadata": {},
   "outputs": [
    {
     "name": "stdout",
     "output_type": "stream",
     "text": [
      "[8655, 23, 455, 323, 13, 45667, 12]\n"
     ]
    }
   ],
   "source": [
    "y=[12,23,455,323,13,45667,8655]\n",
    "temp=y[-1]\n",
    "y[-1]=y[0]\n",
    "y[0]=temp\n",
    "print(y)"
   ]
  },
  {
   "cell_type": "code",
   "execution_count": 16,
   "id": "f9995fc2",
   "metadata": {},
   "outputs": [
    {
     "name": "stdout",
     "output_type": "stream",
     "text": [
      "enter the no of elements: 5\n",
      "10\n",
      "12\n",
      "30\n",
      "40\n",
      "50\n",
      "the sum of elements is: 142\n"
     ]
    }
   ],
   "source": [
    "#sum of the elements\n",
    "newlist=[]\n",
    "w=int(input(\"enter the no of elements: \"))\n",
    "for i in range(0,w):\n",
    "    new=int(input())\n",
    "    newlist.append(new)\n",
    "print(\"the sum of elements is:\",sum(newlist))\n",
    "    \n",
    "    "
   ]
  },
  {
   "cell_type": "code",
   "execution_count": 21,
   "id": "074746dd",
   "metadata": {},
   "outputs": [
    {
     "name": "stdout",
     "output_type": "stream",
     "text": [
      "enter the no of elements: 5\n",
      "10\n",
      "20\n",
      "30\n",
      "40\n",
      "50\n",
      "[10, 20, 30, 40, 50]\n"
     ]
    }
   ],
   "source": [
    "#copylist\n",
    "newlist2=[]\n",
    "j=int(input(\"enter the no of elements: \"))\n",
    "for i in range(0,j):\n",
    "    new1=int(input())\n",
    "    newlist2.append(new1)\n",
    "newlist3=newlist2.copy()\n",
    "print(newlist3)\n"
   ]
  },
  {
   "cell_type": "code",
   "execution_count": 20,
   "id": "d638c42f",
   "metadata": {},
   "outputs": [
    {
     "name": "stdout",
     "output_type": "stream",
     "text": [
      "[1, 2, 4, 5, 6, 7, 8]\n"
     ]
    }
   ],
   "source": [
    "a=[1,2,4,5,6,7,8]\n",
    "b=a.copy()\n",
    "print(b)"
   ]
  },
  {
   "cell_type": "code",
   "execution_count": 22,
   "id": "d853fc1d",
   "metadata": {},
   "outputs": [
    {
     "name": "stdout",
     "output_type": "stream",
     "text": [
      "enter the no of elements: 4\n",
      "10\n",
      "2\n",
      "3\n",
      "4\n",
      "[10, 2, 3, 4]\n",
      "the product of the elements are :  240\n"
     ]
    }
   ],
   "source": [
    "#multiply all the elements\n",
    "newlist5=[]\n",
    "product=1\n",
    "q=int(input(\"enter the no of elements: \"))\n",
    "for i in range(0,q):\n",
    "    new3=int(input())\n",
    "    newlist5.append(new3)\n",
    "    product=(product*new3)\n",
    "print(newlist5)\n",
    "print(\"the product of the elements are : \",product)\n"
   ]
  },
  {
   "cell_type": "code",
   "execution_count": null,
   "id": "f111575b",
   "metadata": {},
   "outputs": [],
   "source": []
  }
 ],
 "metadata": {
  "kernelspec": {
   "display_name": "Python 3 (ipykernel)",
   "language": "python",
   "name": "python3"
  },
  "language_info": {
   "codemirror_mode": {
    "name": "ipython",
    "version": 3
   },
   "file_extension": ".py",
   "mimetype": "text/x-python",
   "name": "python",
   "nbconvert_exporter": "python",
   "pygments_lexer": "ipython3",
   "version": "3.9.7"
  }
 },
 "nbformat": 4,
 "nbformat_minor": 5
}
